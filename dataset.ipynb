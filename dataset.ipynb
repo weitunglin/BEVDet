{
 "cells": [
  {
   "cell_type": "code",
   "execution_count": 21,
   "metadata": {},
   "outputs": [],
   "source": [
    "import pickle\n",
    "f = pickle.load(open('/mmdetection3d/data/nuscenes/bevdetv2-nuscenes_infos_val.pkl', 'rb'))"
   ]
  },
  {
   "cell_type": "code",
   "execution_count": 22,
   "metadata": {},
   "outputs": [
    {
     "name": "stdout",
     "output_type": "stream",
     "text": [
      "dict_keys(['infos', 'metadata'])\n",
      "6019, 1\n"
     ]
    }
   ],
   "source": [
    "print(f.keys())\n",
    "\n",
    "print(f\"\"\"{len(f[\"infos\"])}, {len(f[\"metadata\"])}\"\"\")"
   ]
  },
  {
   "cell_type": "code",
   "execution_count": 23,
   "metadata": {},
   "outputs": [],
   "source": [
    "i = f[\"infos\"][0]"
   ]
  },
  {
   "cell_type": "code",
   "execution_count": 24,
   "metadata": {},
   "outputs": [
    {
     "name": "stdout",
     "output_type": "stream",
     "text": [
      "dict_keys(['lidar_path', 'token', 'sweeps', 'cams', 'lidar2ego_translation', 'lidar2ego_rotation', 'ego2global_translation', 'ego2global_rotation', 'timestamp', 'gt_boxes', 'gt_names', 'gt_velocity', 'num_lidar_pts', 'num_radar_pts', 'valid_flag', 'ann_infos', 'scene_token'])\n",
      "dict_keys(['CAM_FRONT', 'CAM_FRONT_RIGHT', 'CAM_FRONT_LEFT', 'CAM_BACK', 'CAM_BACK_LEFT', 'CAM_BACK_RIGHT'])\n"
     ]
    }
   ],
   "source": [
    "print(i.keys())\n",
    "\n",
    "print(i[\"cams\"].keys())"
   ]
  },
  {
   "cell_type": "code",
   "execution_count": 25,
   "metadata": {},
   "outputs": [
    {
     "name": "stdout",
     "output_type": "stream",
     "text": [
      "{'data_path': '/mmdetection3d/data/nuscenes/samples/CAM_FRONT/n015-2018-08-02-17-16-37+0800__CAM_FRONT__1533201470412460.jpg', 'type': 'CAM_FRONT', 'sample_data_token': 'b8fba7d78cf547b996c431dec1f5ee26', 'sensor2ego_translation': [1.70079118954, 0.0159456324149, 1.51095763913], 'sensor2ego_rotation': [0.4998015430569128, -0.5030316162024876, 0.4997798114386805, -0.49737083824542755], 'ego2global_translation': [249.90018228466124, 917.5514452794962, 0.0], 'ego2global_rotation': [0.9984397071954904, -0.008652973321832425, 0.002523596051210081, -0.05510815376190409], 'timestamp': 1533201470412460, 'sensor2lidar_rotation': array([[ 0.99996937,  0.0067556 , -0.0039516 ],\n",
      "       [ 0.00382456,  0.01871645,  0.99981752],\n",
      "       [ 0.00682833, -0.99980201,  0.01869004]]), 'sensor2lidar_translation': array([-0.01271581,  0.76880558, -0.31059456]), 'cam_intrinsic': array([[1.26641720e+03, 0.00000000e+00, 8.16267020e+02],\n",
      "       [0.00000000e+00, 1.26641720e+03, 4.91507066e+02],\n",
      "       [0.00000000e+00, 0.00000000e+00, 1.00000000e+00]])}\n"
     ]
    }
   ],
   "source": [
    "print(i[\"cams\"][\"CAM_FRONT\"])"
   ]
  },
  {
   "cell_type": "code",
   "execution_count": 26,
   "metadata": {},
   "outputs": [
    {
     "name": "stdout",
     "output_type": "stream",
     "text": [
      "dict_keys(['data_path', 'type', 'sample_data_token', 'sensor2ego_translation', 'sensor2ego_rotation', 'ego2global_translation', 'ego2global_rotation', 'timestamp', 'sensor2lidar_rotation', 'sensor2lidar_translation', 'cam_intrinsic'])\n"
     ]
    }
   ],
   "source": [
    "print(i[\"cams\"][\"CAM_FRONT\"].keys())"
   ]
  },
  {
   "cell_type": "code",
   "execution_count": 27,
   "metadata": {},
   "outputs": [
    {
     "name": "stdout",
     "output_type": "stream",
     "text": [
      "[[ 0.99996937  0.0067556  -0.0039516 ]\n",
      " [ 0.00382456  0.01871645  0.99981752]\n",
      " [ 0.00682833 -0.99980201  0.01869004]]\n",
      "[-0.01271581  0.76880558 -0.31059456]\n",
      "[0.4998015430569128, -0.5030316162024876, 0.4997798114386805, -0.49737083824542755]\n",
      "[1.70079118954, 0.0159456324149, 1.51095763913]\n",
      "[0.9984397071954904, -0.008652973321832425, 0.002523596051210081, -0.05510815376190409]\n",
      "[249.90018228466124, 917.5514452794962, 0.0]\n"
     ]
    }
   ],
   "source": [
    "print(i[\"cams\"][\"CAM_FRONT\"][\"sensor2lidar_rotation\"])\n",
    "print(i[\"cams\"][\"CAM_FRONT\"][\"sensor2lidar_translation\"])\n",
    "\n",
    "print(i[\"cams\"][\"CAM_FRONT\"][\"sensor2ego_rotation\"])\n",
    "print(i[\"cams\"][\"CAM_FRONT\"][\"sensor2ego_translation\"])\n",
    "\n",
    "print(i[\"cams\"][\"CAM_FRONT\"][\"ego2global_rotation\"])\n",
    "print(i[\"cams\"][\"CAM_FRONT\"][\"ego2global_translation\"])"
   ]
  },
  {
   "cell_type": "code",
   "execution_count": 28,
   "metadata": {},
   "outputs": [
    {
     "name": "stdout",
     "output_type": "stream",
     "text": [
      "[0.7077955119163518, -0.006492242056004365, 0.010646214713995808, -0.7063073142877817]\n",
      "[0.943713, 0.0, 1.84023]\n"
     ]
    }
   ],
   "source": [
    "print(i[\"lidar2ego_rotation\"])\n",
    "\n",
    "print(i[\"lidar2ego_translation\"])"
   ]
  },
  {
   "cell_type": "code",
   "execution_count": 29,
   "metadata": {},
   "outputs": [
    {
     "name": "stdout",
     "output_type": "stream",
     "text": [
      "[0.9984303573176436, -0.008635865272570774, 0.0025833156025800875, -0.05527720957189669]\n",
      "[249.89610931430778, 917.5522573162784, 0.0]\n"
     ]
    }
   ],
   "source": [
    "print(i[\"ego2global_rotation\"])\n",
    "\n",
    "print(i[\"ego2global_translation\"])"
   ]
  },
  {
   "cell_type": "code",
   "execution_count": 30,
   "metadata": {},
   "outputs": [
    {
     "name": "stdout",
     "output_type": "stream",
     "text": [
      "([array([-7.92510934,  7.64265956,  0.99996634,  4.257     ,  1.726     ,\n",
      "        1.489     , -1.21805757,  0.23574693, -0.6729934 ]), array([-7.50385241, 16.64392067,  1.36078197,  4.248     ,  1.71      ,\n",
      "        1.527     ,  1.57853585,  0.        ,  0.        ]), array([-4.75733871,  1.8935131 ,  0.65291399,  4.303     ,  1.771     ,\n",
      "        1.407     , -0.50390375, -0.05351123,  0.02832678]), array([-2.98456577e+01,  1.02017997e+01,  1.27038233e+00,  4.50200000e+00,\n",
      "        1.73200000e+00,  1.79900000e+00,  1.59235886e+00, -3.47565970e-03,\n",
      "        1.58807163e-01]), array([40.23168679, 23.52980414,  1.95380357,  1.095     ,  0.695     ,\n",
      "        1.78      , -1.86260766, -0.57048329, -1.59830328]), array([-28.45509297,  22.12566528,   1.64847341,   4.253     ,\n",
      "         1.732     ,   1.491     ,  -1.57845061,   0.04118964,\n",
      "         0.15565759]), array([39.98615281, 22.57446731,  1.97503093,  1.021     ,  0.509     ,\n",
      "        1.758     , -1.93242083, -0.78325538, -1.64199821]), array([-3.19773285e+01,  5.32968742e+00,  1.04209595e+00,  4.59700000e+00,\n",
      "        1.72100000e+00,  1.48600000e+00,  1.64482345e+00, -3.30087404e-03,\n",
      "        4.79863457e-02]), array([ 2.4131099 , 53.51353917,  3.98304803,  0.714     ,  0.703     ,\n",
      "        1.794     , -1.529913  ,  0.12861363, -1.57935615]), array([-12.57840859, -24.31886161,   0.9607972 ,   0.892     ,\n",
      "         0.714     ,   1.794     ,   0.20143616,   1.05446129,\n",
      "         0.53977885]), array([13.59386339, -6.37078445,  0.24772718,  0.243     ,  0.226     ,\n",
      "        0.736     ,  1.50109559, -0.09051718, -0.0384286 ]), array([13.54345131, -6.06928929,  0.23781298,  0.263     ,  0.225     ,\n",
      "        0.806     ,  1.50109559, -0.0535694 ,  0.0222014 ]), array([-3.09524958e+01,  2.19155203e+01,  1.70158907e+00,  4.24800000e+00,\n",
      "        1.86400000e+00,  1.52100000e+00, -1.57845061e+00,  1.19033942e-03,\n",
      "        2.46844303e-01]), array([-3.32572446e+01,  2.18794557e+01,  1.64953110e+00,  4.19200000e+00,\n",
      "        1.86800000e+00,  1.42500000e+00, -1.54923380e+00, -2.09277458e-02,\n",
      "        2.61972825e-02]), array([-38.71515473,  22.33005908,   1.67014679,   4.276     ,\n",
      "         1.647     ,   1.603     ,   1.59235886,  -0.04108098,\n",
      "         0.20692343]), array([-18.09540277,  20.78660416,   1.42525287,   4.175     ,\n",
      "         1.979     ,   1.306     ,  -1.50792185,   0.        ,\n",
      "         0.        ]), array([-53.26345546,  -1.34294424,   0.96896511,   4.606     ,\n",
      "         1.785     ,   1.604     ,  -3.13894949,  -5.84094963,\n",
      "         0.30074571]), array([-40.13194894,  11.36290184,   1.4307681 ,   4.338     ,\n",
      "         1.703     ,   1.519     ,   1.59235886,  -0.05003909,\n",
      "         0.21645059]), array([-26.6271242 ,  10.19006333,   1.32833539,   4.328     ,\n",
      "         1.792     ,   1.644     ,   1.61806756,   0.06539075,\n",
      "         0.1929277 ]), array([24.66146723, -4.38564454,  0.81389045,  0.891     ,  0.682     ,\n",
      "        1.721     , -2.95725256, -1.30318331, -0.29532785]), array([7.34609073e+00, 9.13999559e-02, 7.31736935e-01, 4.05200000e+00,\n",
      "       1.66400000e+00, 1.39600000e+00, 5.38332861e-03, 3.58502706e-01,\n",
      "       1.39862879e-03]), array([-2.59506530e+01,  2.28358607e+01,  1.76219303e+00,  4.25700000e+00,\n",
      "        1.73400000e+00,  1.43400000e+00,  1.52230134e+00,  3.05193194e-02,\n",
      "       -2.66625445e-03]), array([-2.30631494e+01,  2.22746321e+01,  1.56310438e+00,  4.30300000e+00,\n",
      "        1.69600000e+00,  1.53100000e+00,  1.52230134e+00,  2.46273217e-03,\n",
      "        8.69026322e-02]), array([-1.04961001e+01,  1.73168143e+01,  1.53039840e+00,  4.62200000e+00,\n",
      "        1.68300000e+00,  1.86600000e+00,  1.57853585e+00,  3.22893707e-02,\n",
      "       -4.55702462e-04]), array([-3.26477838e+01,  1.05382352e+01,  1.28084244e+00,  4.29100000e+00,\n",
      "        1.72600000e+00,  1.58700000e+00,  1.59235886e+00, -3.31871218e-03,\n",
      "        1.38438210e-01]), array([ 1.24490269e+01,  3.02031149e-02,  7.07507209e-01,  4.42100000e+00,\n",
      "        1.73100000e+00,  1.41000000e+00, -5.85697432e-04,  1.75380538e-01,\n",
      "       -7.36411725e-04]), array([38.66753506, 22.04570406,  1.93435341,  0.723     ,  0.647     ,\n",
      "        1.835     ,  1.24494902,  0.49760377,  1.08991837]), array([48.18462079, -5.64880247,  0.80881888,  4.744     ,  2.152     ,\n",
      "        2.04      , -1.88006096, -0.15746183, -0.27178707]), array([-2.37933146e+01,  1.07514021e+01,  1.27676034e+00,  4.25900000e+00,\n",
      "        1.69700000e+00,  1.59900000e+00,  1.60918383e+00,  9.47702095e-03,\n",
      "        2.30387621e-02]), array([-4.03736183e+01,  5.66317178e+00,  1.29268764e+00,  4.48800000e+00,\n",
      "        1.73700000e+00,  1.63900000e+00,  1.63052921e+00, -1.68952104e-02,\n",
      "        8.11762317e-02]), array([-3.69531003, 26.49296019,  2.56845888,  0.464     ,  0.448     ,\n",
      "        0.976     , -1.529913  ,  0.12784714,  0.04638384]), array([-26.3013371 ,   5.19278587,   0.97787185,   4.355     ,\n",
      "         1.835     ,   1.516     ,   1.62737016,  -0.05479658,\n",
      "         0.14906369]), array([-21.0693547 ,  26.31333839,   2.91137725,   0.734     ,\n",
      "         0.46      ,   1.739     ,  -3.1286695 ,  -1.0177824 ,\n",
      "         0.0746176 ]), array([-5.43962903, 30.07910506,  3.10638192,  0.815     ,  0.819     ,\n",
      "        1.904     , -1.529913  ,  0.04452513, -1.07492612]), array([-10.85170454,  -5.14597422,   0.75643868,   4.544     ,\n",
      "         1.69      ,   1.51      ,   3.13819698,  -0.12266892,\n",
      "         0.05314704]), array([17.07057479, -9.56779714,  0.76888615,  0.843     ,  0.703     ,\n",
      "        1.862     ,  2.50294949, -0.97150522,  0.80310242]), array([-4.91403096e+00,  2.05674532e+01,  1.41925829e+00,  4.32600000e+00,\n",
      "        1.71400000e+00,  1.43500000e+00, -1.54368365e+00,  5.81821292e-02,\n",
      "       -4.61099659e-04])], [0, 0, 0, 0, 8, 0, 8, 0, 8, 8, 9, 9, 0, 0, 0, 0, 0, 0, 0, 8, 0, 0, 0, 0, 0, 0, 8, 0, 0, 0, 9, 0, 8, 8, 0, 8, 0])\n"
     ]
    }
   ],
   "source": [
    "print(i[\"ann_infos\"])"
   ]
  },
  {
   "cell_type": "code",
   "execution_count": 31,
   "metadata": {},
   "outputs": [
    {
     "data": {
      "text/plain": [
       "{'version': 'v1.0-trainval'}"
      ]
     },
     "execution_count": 31,
     "metadata": {},
     "output_type": "execute_result"
    }
   ],
   "source": [
    "f[\"metadata\"]"
   ]
  },
  {
   "cell_type": "code",
   "execution_count": 32,
   "metadata": {},
   "outputs": [],
   "source": [
    "import copy\n",
    "import os\n",
    "\n",
    "base_path = '/mnt/NAS/parzival/ITRI/Dataset/3D/'\n",
    "\n",
    "itri_cams = {\n",
    "    \"image_front_bottom_60\": {\n",
    "        \"cam_intrinsic\": [[618.175335, 0.000000, 273.771329,], [0.000000, 611.31756, 204.595871,], [0.000000, 0.000000, 1.000000]],\n",
    "        \"sensor2lidar_rotation\": [\n",
    "            [0.9980077885482712, 0.0247124471717397, 0.05804953877312857],\n",
    "            [-0.0585477232287393, 0.01993650590000778, 0.9980855172966042],\n",
    "            [0.0235078306468276, -0.9994957882288864, 0.02134364568196223]\n",
    "        ],\n",
    "        \"sensor2lidar_translation\": [-0.3237799271578172, 0.9653148462462031, -2.241561306526251],\n",
    "        \"sensor2ego_rotation\": [0.7136834, -0.7004575, -0.0037762, -0.0010267],\n",
    "        \"sensor2ego_translation\": [-0.3237799271578172, 0.9653148462462031, -2.241561306526251],\n",
    "        \"ego2global_rotation\": [1, 0, 0, 0],\n",
    "        \"ego2global_translation\": [0, 0, 0],\n",
    "    },\n",
    "    \"image_front_top_far_30\": {\n",
    "        \"cam_intrinsic\": [[1109.320305, 0.0000000, 336.718475], [0.000000, 1106.037227, 235.528447], [0.00000, 0.000000, 1.00000]],\n",
    "        \"sensor2lidar_rotation\": [\n",
    "            [0.9904617902131139, 0.01474944086427021, 0.1369959711890263],\n",
    "            [-0.1354022972149057, -0.08001517686519838, 0.9875544488179662],\n",
    "            [0.02552763280759701, -0.9966845165173492, -0.0772548671464659]\n",
    "        ],\n",
    "        \"sensor2lidar_translation\": [0.1662200728421821, 1.165314846246203, -0.761561306526251],\n",
    "        \"sensor2ego_rotation\": [0.4394865, -0.4890302, 0.5472449, -0.5179037],\n",
    "        \"sensor2ego_translation\": [0.1662200728421821, 1.165314846246203, -0.761561306526251],\n",
    "        \"ego2global_rotation\": [1, 0, 0, 0],\n",
    "        \"ego2global_translation\": [0, 0, 0],\n",
    "    },\n",
    "    \"image_left_back_60\": {\n",
    "        \"cam_intrinsic\": [[618.175335, 0.000000, 273.771329,], [0.000000, 611.31756, 204.595871,], [0.000000, 0.000000, 1.000000]],\n",
    "        \"sensor2lidar_rotation\": [\n",
    "            [0.7574353003515645, 0.0486152312052206, -0.6510977845732533],\n",
    "            [0.6358769567282897, -0.2812238260917291, 0.7187305862006279],\n",
    "            [-0.1481629565151313, -0.9584099952177003, -0.2439221584512227]\n",
    "        ],\n",
    "        \"sensor2lidar_translation\": [-6.713779927157818, 4.765314846246203, -2.871561306526251],\n",
    "        \"sensor2ego_rotation\": [0.5795126, -0.6943368, 0.3739752, -0.2054362],\n",
    "        \"sensor2ego_translation\": [-6.713779927157818, 4.765314846246203, -2.871561306526251],\n",
    "        \"ego2global_rotation\": [1, 0, 0, 0],\n",
    "        \"ego2global_translation\": [0, 0, 0],\n",
    "    },\n",
    "    \"image_right_back_60\": {\n",
    "        \"cam_intrinsic\": [[618.175335, 0.000000, 273.771329,], [0.000000, 611.31756, 204.595871,], [0.000000, 0.000000, 1.000000]],\n",
    "        \"sensor2lidar_rotation\": [\n",
    "            [0.8651667173805694, -0.01872477257324379, 0.5011346466060891],\n",
    "            [-0.4801479399561342, -0.3193161403620065, 0.817003768816394],\n",
    "            [0.1447221713933642, -0.9474632369629923, -0.2852523579408208]\n",
    "        ],\n",
    "        \"sensor2lidar_translation\": [-12.42377992715782, -5.124685153753797, -3.261561306526251],\n",
    "        # \"sensor2ego_rotation\": [0.2516568, -0.4433903, 0.6678557, -0.542257],\n",
    "        # \"sensor2ego_translation\": [-12.42377992715782, -5.124685153753797, -3.261561306526251],\n",
    "        # \"ego2global_rotation\": [1, 0, 0, 0],\n",
    "        # \"ego2global_translation\": [0, 0, 0],\n",
    "    },\n",
    "}\n",
    "\n",
    "for i, x in enumerate(f[\"infos\"]):\n",
    "    for cam, config in itri_cams.items():\n",
    "        f[\"infos\"][i][\"cams\"][cam] = copy.deepcopy(f[\"infos\"][i][\"cams\"][\"CAM_FRONT\"])\n",
    "        f[\"infos\"][i][\"cams\"][cam][\"data_path\"] = os.path.join(base_path, cam, f\"{i}.jpg\")\n",
    "        for key, value in config.items():\n",
    "            f[\"infos\"][i][\"cams\"][cam][key] = value"
   ]
  },
  {
   "cell_type": "code",
   "execution_count": 33,
   "metadata": {},
   "outputs": [
    {
     "data": {
      "text/plain": [
       "'/mnt/NAS/parzival/ITRI/Dataset/3D/image_left_back_60/0.jpg'"
      ]
     },
     "execution_count": 33,
     "metadata": {},
     "output_type": "execute_result"
    }
   ],
   "source": [
    "f[\"infos\"][0][\"cams\"][\"image_left_back_60\"][\"data_path\"]"
   ]
  },
  {
   "cell_type": "code",
   "execution_count": 34,
   "metadata": {},
   "outputs": [],
   "source": [
    "f[\"metadata\"][\"version\"] = 'itri-3d-all'\n",
    "with open('/mmdetection3d/data/nuscenes/itri-nuscenes_infos_val.pkl', 'wb') as x:\n",
    "    pickle.dump(f, x)"
   ]
  },
  {
   "cell_type": "code",
   "execution_count": 35,
   "metadata": {},
   "outputs": [
    {
     "name": "stdout",
     "output_type": "stream",
     "text": [
      "dict_keys(['infos', 'metadata'])\n",
      "{'data_path': '/mnt/NAS/parzival/ITRI/Dataset/3D/image_front_bottom_60/0.jpg', 'type': 'CAM_FRONT', 'sample_data_token': 'b8fba7d78cf547b996c431dec1f5ee26', 'sensor2ego_translation': [1.70079118954, 0.0159456324149, 1.51095763913], 'sensor2ego_rotation': [0.4998015430569128, -0.5030316162024876, 0.4997798114386805, -0.49737083824542755], 'ego2global_translation': [249.90018228466124, 917.5514452794962, 0.0], 'ego2global_rotation': [0.9984397071954904, -0.008652973321832425, 0.002523596051210081, -0.05510815376190409], 'timestamp': 1533201470412460, 'sensor2lidar_rotation': [[0.9980077885482712, 0.0247124471717397, 0.05804953877312857], [-0.0585477232287393, 0.01993650590000778, 0.9980855172966042], [0.0235078306468276, -0.9994957882288864, 0.02134364568196223]], 'sensor2lidar_translation': [-0.3237799271578172, 0.9653148462462031, -2.241561306526251], 'cam_intrinsic': [[618.175335, 0.0, 273.771329], [0.0, 611.31756, 204.595871], [0.0, 0.0, 1.0]]}\n"
     ]
    }
   ],
   "source": [
    "import pickle\n",
    "f = pickle.load(open('/mmdetection3d/data/nuscenes/itri-nuscenes_infos_val.pkl', 'rb'))\n",
    "print(f.keys())\n",
    "print(f[\"infos\"][0][\"cams\"][\"image_front_bottom_60\"])"
   ]
  },
  {
   "cell_type": "code",
   "execution_count": null,
   "metadata": {},
   "outputs": [],
   "source": []
  }
 ],
 "metadata": {
  "kernelspec": {
   "display_name": "Python 3",
   "language": "python",
   "name": "python3"
  },
  "language_info": {
   "codemirror_mode": {
    "name": "ipython",
    "version": 3
   },
   "file_extension": ".py",
   "mimetype": "text/x-python",
   "name": "python",
   "nbconvert_exporter": "python",
   "pygments_lexer": "ipython3",
   "version": "3.8.13"
  },
  "orig_nbformat": 4,
  "vscode": {
   "interpreter": {
    "hash": "31f2aee4e71d21fbe5cf8b01ff0e069b9275f58929596ceb00d14d90e3e16cd6"
   }
  }
 },
 "nbformat": 4,
 "nbformat_minor": 2
}
