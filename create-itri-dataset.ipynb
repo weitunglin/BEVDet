{
 "cells": [
  {
   "cell_type": "code",
   "execution_count": 1,
   "metadata": {
    "tags": []
   },
   "outputs": [
    {
     "name": "stdout",
     "output_type": "stream",
     "text": [
      "reading json file:\n",
      "/mmdetection3d/data/itri_dataset/label_3d/bevdet.json\n"
     ]
    }
   ],
   "source": [
    "# path config\n",
    "import os\n",
    "dataroot = '/mmdetection3d/data/itri_dataset'\n",
    "jsonfile = os.path.join(dataroot, 'label_3d/bevdet.json')\n",
    "\n",
    "print('reading json file:')\n",
    "print(jsonfile)"
   ]
  },
  {
   "cell_type": "code",
   "execution_count": 2,
   "metadata": {},
   "outputs": [
    {
     "name": "stdout",
     "output_type": "stream",
     "text": [
      "total frames:\n",
      "382\n"
     ]
    }
   ],
   "source": [
    "# read json\n",
    "import json\n",
    "from easydict import EasyDict as edict\n",
    "\n",
    "with open(jsonfile, 'rb') as f:\n",
    "    data = edict(json.load(f))\n",
    "\n",
    "print('total frames:')\n",
    "print(len(data.keys()))"
   ]
  },
  {
   "cell_type": "code",
   "execution_count": 3,
   "metadata": {},
   "outputs": [
    {
     "name": "stdout",
     "output_type": "stream",
     "text": [
      "0, 1\n",
      "{'metadata': {'version': 'itri-3d-all'}, 'infos': []}\n"
     ]
    }
   ],
   "source": [
    "# define output\n",
    "out = edict()\n",
    "out.metadata = edict()\n",
    "out.metadata.version = \"itri-3d-all\"\n",
    "out.infos = []\n",
    "\n",
    "print(f\"\"\"{len(out[\"infos\"])}, {len(out[\"metadata\"])}\"\"\")\n",
    "print(out)"
   ]
  },
  {
   "cell_type": "code",
   "execution_count": 4,
   "metadata": {},
   "outputs": [],
   "source": [
    "itri_cam_config = {\n",
    "    \"image_front_bottom_60\": {\n",
    "        \"cam_intrinsic\": [[618.175335, 0.000000, 273.771329,], [0.000000, 611.31756, 204.595871,], [0.000000, 0.000000, 1.000000]],\n",
    "        \"sensor2lidar_rotation\": [\n",
    "            [0.9980077885482712, 0.0247124471717397, 0.05804953877312857],\n",
    "            [0.0585477232287393, -0.01993650590000778, -0.9980855172966042],\n",
    "            [0.0235078306468276, -0.9994957882288864, 0.02134364568196223]\n",
    "        ],\n",
    "        \"sensor2lidar_translation\": [-0.3237799271578172, 0.9653148462462031, -2.241561306526251],\n",
    "    },\n",
    "    \"image_front_top_far_30\": {\n",
    "        \"cam_intrinsic\": [[1109.320305, 0.0000000, 336.718475], [0.000000, 1106.037227, 235.528447], [0.00000, 0.000000, 1.00000]],\n",
    "        \"sensor2lidar_rotation\": [\n",
    "            [0.9904617902131139, 0.01474944086427021, 0.1369959711890263],\n",
    "            [0.1354022972149057, 0.08001517686519838, -0.9875544488179662],\n",
    "            [0.02552763280759701, -0.9966845165173492, -0.0772548671464659]\n",
    "        ],\n",
    "        \"sensor2lidar_translation\": [0.1662200728421821, 1.165314846246203, -0.761561306526251],\n",
    "    },\n",
    "    \"image_left_back_60\": {\n",
    "        \"cam_intrinsic\": [[618.175335, 0.000000, 273.771329,], [0.000000, 611.31756, 204.595871,], [0.000000, 0.000000, 1.000000]],\n",
    "        \"sensor2lidar_rotation\": [\n",
    "            [0.7574353003515645, 0.0486152312052206, -0.6510977845732533],\n",
    "            [-0.6358769567282897, 0.2812238260917291, -0.7187305862006279],\n",
    "            [-0.1481629565151313, -0.9584099952177003, -0.2439221584512227]\n",
    "        ],\n",
    "        \"sensor2lidar_translation\": [-6.713779927157818, 4.765314846246203, -2.871561306526251],\n",
    "    },\n",
    "    \"image_right_back_60\": {\n",
    "        \"cam_intrinsic\": [[618.175335, 0.000000, 273.771329,], [0.000000, 611.31756, 204.595871,], [0.000000, 0.000000, 1.000000]],\n",
    "        \"sensor2lidar_rotation\": [\n",
    "            [0.8651667173805694, -0.01872477257324379, 0.5011346466060891],\n",
    "            [0.4801479399561342, 0.3193161403620065, -0.817003768816394],\n",
    "            [0.1447221713933642, -0.9474632369629923, -0.2852523579408208]\n",
    "        ],\n",
    "        \"sensor2lidar_translation\": [-12.42377992715782, -5.124685153753797, -3.261561306526251],\n",
    "    },\n",
    "}"
   ]
  },
  {
   "cell_type": "code",
   "execution_count": 5,
   "metadata": {},
   "outputs": [],
   "source": [
    "frames = set(data.keys())\n",
    "class_names = ['pedestrian', 'bicycle', 'car', 'motorbike', 'bus', 'truck', 'dontcare']\n",
    "\n",
    "for frame in frames:\n",
    "    i = edict()\n",
    "    i.token = frame\n",
    "    i.timestamp = frame\n",
    "    i.num_lidar_pts = 1\n",
    "    i.valid_flag = True\n",
    "    i.gt_boxes = data[frame].array\n",
    "    i.gt_labels_3d = data[frame][\"class\"]\n",
    "    i.gt_names = [class_names[i] for i in data[frame][\"class\"]]\n",
    "\n",
    "    i.ann_infos = (i.gt_boxes, i.gt_labels_3d)\n",
    "\n",
    "    i.cams = edict()\n",
    "    for cam, configs in itri_cam_config.items():\n",
    "        cam_config = edict()\n",
    "        for key, config in configs.items():\n",
    "            cam_config[key] = config\n",
    "\n",
    "        i.cams[cam] = cam_config\n",
    "        i.cams[cam].type = cam\n",
    "        i.cams[cam].data_path = os.path.join(dataroot, cam, f\"{frame}.jpg\")\n",
    "    \n",
    "    out.infos.append(i)"
   ]
  },
  {
   "cell_type": "code",
   "execution_count": 6,
   "metadata": {},
   "outputs": [],
   "source": [
    "# export to pickle file\n",
    "pickle_path = os.path.join(dataroot, \"itri_infos_train.pkl\")\n",
    "\n",
    "with open(pickle_path, \"wb\") as f:\n",
    "    import pickle\n",
    "    pickle.dump(out, f)\n",
    "\n",
    "pickle_path = os.path.join(dataroot, \"itri_infos_val.pkl\")\n",
    "\n",
    "with open(pickle_path, \"wb\") as f:\n",
    "    import pickle\n",
    "    pickle.dump(out, f)"
   ]
  },
  {
   "cell_type": "code",
   "execution_count": 7,
   "metadata": {},
   "outputs": [
    {
     "name": "stdout",
     "output_type": "stream",
     "text": [
      "/mmdetection3d/data/itri_dataset/image_front_bottom_60/1671585432.jpg\n",
      "[[20.450435638427734, 0.6813616752624512, -2.4600727558135986, 1.96230947971344, 4.214895725250244, 1.6542085409164429, 0.277220547199249, 0, 0], [3.279998779296875, 12.560001373291016, -2.1618356704711914, 0.6244035959243774, 1.6121983528137207, 1.8127834796905518, 0.3638122677803034, 0, 0]]\n",
      "[4, 3]\n"
     ]
    }
   ],
   "source": [
    "# examine exported pickle file\n",
    "with open(pickle_path, \"rb\") as f:\n",
    "    pkl = pickle.load(f)\n",
    "\n",
    "print(pkl.infos[0].cams['image_front_bottom_60'].data_path)\n",
    "\n",
    "print(pkl.infos[0].gt_boxes)\n",
    "print(pkl.infos[0].gt_labels_3d)"
   ]
  },
  {
   "cell_type": "code",
   "execution_count": null,
   "metadata": {},
   "outputs": [],
   "source": []
  }
 ],
 "metadata": {
  "kernelspec": {
   "display_name": "base",
   "language": "python",
   "name": "python3"
  },
  "language_info": {
   "codemirror_mode": {
    "name": "ipython",
    "version": 3
   },
   "file_extension": ".py",
   "mimetype": "text/x-python",
   "name": "python",
   "nbconvert_exporter": "python",
   "pygments_lexer": "ipython3",
   "version": "3.8.13"
  },
  "orig_nbformat": 4
 },
 "nbformat": 4,
 "nbformat_minor": 2
}
